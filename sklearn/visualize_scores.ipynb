{
 "cells": [
  {
   "cell_type": "code",
   "execution_count": 1,
   "metadata": {},
   "outputs": [],
   "source": [
    "import pandas as pd\n",
    "import numpy as np\n",
    "import matplotlib.pyplot as plt\n",
    "import seaborn as sns"
   ]
  },
  {
   "cell_type": "code",
   "execution_count": 8,
   "metadata": {},
   "outputs": [],
   "source": [
    "scores = pd.read_csv('../data/ec109_mismatch_old_match_old_scores.csv')"
   ]
  },
  {
   "cell_type": "code",
   "execution_count": 10,
   "metadata": {},
   "outputs": [],
   "source": [
    "data = pd.read_csv('../data/mismatch_old_behav_ec109.csv')"
   ]
  },
  {
   "cell_type": "code",
   "execution_count": null,
   "metadata": {},
   "outputs": [],
   "source": [
    "data.describe()"
   ]
  },
  {
   "cell_type": "code",
   "execution_count": 9,
   "metadata": {},
   "outputs": [
    {
     "data": {
      "text/html": [
       "<div>\n",
       "<style scoped>\n",
       "    .dataframe tbody tr th:only-of-type {\n",
       "        vertical-align: middle;\n",
       "    }\n",
       "\n",
       "    .dataframe tbody tr th {\n",
       "        vertical-align: top;\n",
       "    }\n",
       "\n",
       "    .dataframe thead th {\n",
       "        text-align: right;\n",
       "    }\n",
       "</style>\n",
       "<table border=\"1\" class=\"dataframe\">\n",
       "  <thead>\n",
       "    <tr style=\"text-align: right;\">\n",
       "      <th></th>\n",
       "      <th>Unnamed: 0</th>\n",
       "      <th>auc_z</th>\n",
       "      <th>endfreq</th>\n",
       "      <th>endtime</th>\n",
       "      <th>nperms</th>\n",
       "      <th>pvalue</th>\n",
       "      <th>real_auc</th>\n",
       "      <th>startfreq</th>\n",
       "      <th>starttime</th>\n",
       "      <th>sub</th>\n",
       "    </tr>\n",
       "  </thead>\n",
       "  <tbody>\n",
       "    <tr>\n",
       "      <th>0</th>\n",
       "      <td>0</td>\n",
       "      <td>0    3.966813\\ndtype: float64</td>\n",
       "      <td>7.605895</td>\n",
       "      <td>-500</td>\n",
       "      <td>500</td>\n",
       "      <td>0.000000</td>\n",
       "      <td>0.625149</td>\n",
       "      <td>3.0</td>\n",
       "      <td>-750</td>\n",
       "      <td>ec109</td>\n",
       "    </tr>\n",
       "    <tr>\n",
       "      <th>1</th>\n",
       "      <td>0</td>\n",
       "      <td>0    0.332059\\ndtype: float64</td>\n",
       "      <td>7.605895</td>\n",
       "      <td>-250</td>\n",
       "      <td>500</td>\n",
       "      <td>0.367265</td>\n",
       "      <td>0.508872</td>\n",
       "      <td>3.0</td>\n",
       "      <td>-500</td>\n",
       "      <td>ec109</td>\n",
       "    </tr>\n",
       "    <tr>\n",
       "      <th>2</th>\n",
       "      <td>0</td>\n",
       "      <td>0    3.965867\\ndtype: float64</td>\n",
       "      <td>7.605895</td>\n",
       "      <td>0</td>\n",
       "      <td>500</td>\n",
       "      <td>0.000000</td>\n",
       "      <td>0.610759</td>\n",
       "      <td>3.0</td>\n",
       "      <td>-250</td>\n",
       "      <td>ec109</td>\n",
       "    </tr>\n",
       "    <tr>\n",
       "      <th>3</th>\n",
       "      <td>0</td>\n",
       "      <td>0    2.31611\\ndtype: float64</td>\n",
       "      <td>7.605895</td>\n",
       "      <td>250</td>\n",
       "      <td>500</td>\n",
       "      <td>0.019960</td>\n",
       "      <td>0.567808</td>\n",
       "      <td>3.0</td>\n",
       "      <td>0</td>\n",
       "      <td>ec109</td>\n",
       "    </tr>\n",
       "    <tr>\n",
       "      <th>4</th>\n",
       "      <td>0</td>\n",
       "      <td>0    3.559699\\ndtype: float64</td>\n",
       "      <td>7.605895</td>\n",
       "      <td>500</td>\n",
       "      <td>500</td>\n",
       "      <td>0.001996</td>\n",
       "      <td>0.610246</td>\n",
       "      <td>3.0</td>\n",
       "      <td>250</td>\n",
       "      <td>ec109</td>\n",
       "    </tr>\n",
       "    <tr>\n",
       "      <th>5</th>\n",
       "      <td>0</td>\n",
       "      <td>0    3.621479\\ndtype: float64</td>\n",
       "      <td>7.605895</td>\n",
       "      <td>750</td>\n",
       "      <td>500</td>\n",
       "      <td>0.000000</td>\n",
       "      <td>0.608217</td>\n",
       "      <td>3.0</td>\n",
       "      <td>500</td>\n",
       "      <td>ec109</td>\n",
       "    </tr>\n",
       "  </tbody>\n",
       "</table>\n",
       "</div>"
      ],
      "text/plain": [
       "   Unnamed: 0                          auc_z   endfreq  endtime  nperms  \\\n",
       "0           0  0    3.966813\\ndtype: float64  7.605895     -500     500   \n",
       "1           0  0    0.332059\\ndtype: float64  7.605895     -250     500   \n",
       "2           0  0    3.965867\\ndtype: float64  7.605895        0     500   \n",
       "3           0   0    2.31611\\ndtype: float64  7.605895      250     500   \n",
       "4           0  0    3.559699\\ndtype: float64  7.605895      500     500   \n",
       "5           0  0    3.621479\\ndtype: float64  7.605895      750     500   \n",
       "\n",
       "     pvalue  real_auc  startfreq  starttime    sub  \n",
       "0  0.000000  0.625149        3.0       -750  ec109  \n",
       "1  0.367265  0.508872        3.0       -500  ec109  \n",
       "2  0.000000  0.610759        3.0       -250  ec109  \n",
       "3  0.019960  0.567808        3.0          0  ec109  \n",
       "4  0.001996  0.610246        3.0        250  ec109  \n",
       "5  0.000000  0.608217        3.0        500  ec109  "
      ]
     },
     "execution_count": 9,
     "metadata": {},
     "output_type": "execute_result"
    }
   ],
   "source": [
    "scores"
   ]
  },
  {
   "cell_type": "code",
   "execution_count": null,
   "metadata": {},
   "outputs": [],
   "source": [
    "sns.barplot(x='starttime', y='auc_z', hue='startfreq', data=scores)"
   ]
  },
  {
   "cell_type": "code",
   "execution_count": null,
   "metadata": {},
   "outputs": [],
   "source": [
    "scores['auc_z'] = scores['auc_z'].str.split(expand=True)[1].astype(dtype='float64')"
   ]
  },
  {
   "cell_type": "code",
   "execution_count": null,
   "metadata": {},
   "outputs": [],
   "source": [
    "scores.auc_z.dtype"
   ]
  },
  {
   "cell_type": "code",
   "execution_count": 23,
   "metadata": {
    "scrolled": true
   },
   "outputs": [
    {
     "name": "stderr",
     "output_type": "stream",
     "text": [
      "/Users/drdj/.pyenv/versions/3.6.5/lib/python3.6/site-packages/ipykernel_launcher.py:2: SettingWithCopyWarning: \n",
      "A value is trying to be set on a copy of a slice from a DataFrame.\n",
      "Try using .loc[row_indexer,col_indexer] = value instead\n",
      "\n",
      "See the caveats in the documentation: http://pandas.pydata.org/pandas-docs/stable/indexing.html#indexing-view-versus-copy\n",
      "  \n"
     ]
    }
   ],
   "source": [
    "r1 = data[data['response']==1]"
   ]
  },
  {
   "cell_type": "code",
   "execution_count": null,
   "metadata": {},
   "outputs": [],
   "source": [
    "r1['class']=1\n",
    "r1['blockno']=1"
   ]
  },
  {
   "cell_type": "code",
   "execution_count": 18,
   "metadata": {},
   "outputs": [
    {
     "data": {
      "text/plain": [
       "'phase'"
      ]
     },
     "execution_count": 18,
     "metadata": {},
     "output_type": "execute_result"
    }
   ],
   "source": [
    "keep_pow=False\n",
    "keep_phase=True\n",
    "\n",
    "if keep_pow and keep_phase:\n",
    "    features = 'all'\n",
    "elif keep_pow and not keep_phase:\n",
    "    features = 'pow'\n",
    "elif not keep_pow and keep_phase:\n",
    "    features= 'phase'  \n",
    "features    "
   ]
  },
  {
   "cell_type": "code",
   "execution_count": 24,
   "metadata": {},
   "outputs": [],
   "source": [
    "def gen_wide_df(df, f_idx, t_idx, keep_pow, keep_phase):\n",
    "    \"\"\"\n",
    "\n",
    "    :param df:\n",
    "    :param f_idx:\n",
    "    :param t_idx:\n",
    "    :return: df\n",
    "    \"\"\"\n",
    "\n",
    "    df = df.loc[(df['time'].isin(t_idx)) & (df['freqs'].isin(f_idx))]\n",
    "\n",
    "    # z-score within block\n",
    "    gb = df.groupby(['elecs', 'freqs', 'blockno'])\n",
    "    if keep_pow:\n",
    "        df['zpow'] = gb['pow'].apply(zscore)\n",
    "    if keep_phase:\n",
    "        df['sin'] = gb['phase'].apply(np.sin)\n",
    "        df['cos'] = gb['phase'].apply(np.cos)\n",
    "\n",
    "    df.drop(['pow', 'phase'], inplace=True, axis=1)\n",
    "\n",
    "    df = pd.pivot_table(df,\n",
    "                        index=['class', 'blockno', 'events'],\n",
    "                        columns=['elecs', 'freqs', 'time'],\n",
    "                        aggfunc=[lambda x: x])\n",
    "\n",
    "    elecs = df.columns.get_level_values('elecs')\n",
    "    freqs = df.columns.get_level_values('freqs')\n",
    "    time = df.columns.get_level_values('time')\n",
    "    ncol = len(elecs)\n",
    "    df.reset_index(drop=False, inplace=True)\n",
    "    return df, elecs, freqs, time, ncol"
   ]
  },
  {
   "cell_type": "code",
   "execution_count": 25,
   "metadata": {},
   "outputs": [
    {
     "name": "stderr",
     "output_type": "stream",
     "text": [
      "/Users/drdj/.pyenv/versions/3.6.5/lib/python3.6/site-packages/ipykernel_launcher.py:17: SettingWithCopyWarning: \n",
      "A value is trying to be set on a copy of a slice from a DataFrame.\n",
      "Try using .loc[row_indexer,col_indexer] = value instead\n",
      "\n",
      "See the caveats in the documentation: http://pandas.pydata.org/pandas-docs/stable/indexing.html#indexing-view-versus-copy\n",
      "/Users/drdj/.pyenv/versions/3.6.5/lib/python3.6/site-packages/ipykernel_launcher.py:18: SettingWithCopyWarning: \n",
      "A value is trying to be set on a copy of a slice from a DataFrame.\n",
      "Try using .loc[row_indexer,col_indexer] = value instead\n",
      "\n",
      "See the caveats in the documentation: http://pandas.pydata.org/pandas-docs/stable/indexing.html#indexing-view-versus-copy\n",
      "/Users/drdj/.pyenv/versions/3.6.5/lib/python3.6/site-packages/ipykernel_launcher.py:20: SettingWithCopyWarning: \n",
      "A value is trying to be set on a copy of a slice from a DataFrame\n",
      "\n",
      "See the caveats in the documentation: http://pandas.pydata.org/pandas-docs/stable/indexing.html#indexing-view-versus-copy\n"
     ]
    }
   ],
   "source": [
    "df, elecs, freqs, time, ncol = gen_wide_df(r1, list(range(1,14)), list(range(1,125)), keep_pow, keep_phase)"
   ]
  },
  {
   "cell_type": "code",
   "execution_count": 58,
   "metadata": {},
   "outputs": [],
   "source": [
    "view_conds = [f'view{x}' for x in range(1,4)]\n",
    "cond='view1'"
   ]
  },
  {
   "cell_type": "code",
   "execution_count": 59,
   "metadata": {},
   "outputs": [],
   "source": [
    "view_conds.append('response')\n",
    "view_conds.remove(cond)"
   ]
  },
  {
   "cell_type": "code",
   "execution_count": 60,
   "metadata": {},
   "outputs": [
    {
     "data": {
      "text/plain": [
       "['view2', 'view3', 'response']"
      ]
     },
     "execution_count": 60,
     "metadata": {},
     "output_type": "execute_result"
    }
   ],
   "source": [
    "view_conds"
   ]
  },
  {
   "cell_type": "code",
   "execution_count": 55,
   "metadata": {},
   "outputs": [
    {
     "data": {
      "text/plain": [
       "Index(['events', 'blockno', 'elecs', 'freqs', 'time', 'pow', 'phase',\n",
       "       'response', 'view1', 'view2', 'view3'],\n",
       "      dtype='object')"
      ]
     },
     "execution_count": 55,
     "metadata": {},
     "output_type": "execute_result"
    }
   ],
   "source": [
    "data.columns"
   ]
  },
  {
   "cell_type": "code",
   "execution_count": 65,
   "metadata": {},
   "outputs": [],
   "source": [
    "cols_to_drop = [f'view{x}' for x in range(1,4)]"
   ]
  },
  {
   "cell_type": "code",
   "execution_count": 66,
   "metadata": {},
   "outputs": [],
   "source": [
    "cols_to_drop.append('response')"
   ]
  },
  {
   "cell_type": "code",
   "execution_count": 68,
   "metadata": {},
   "outputs": [],
   "source": [
    "cols_to_drop.remove(cond)"
   ]
  },
  {
   "cell_type": "code",
   "execution_count": 69,
   "metadata": {},
   "outputs": [
    {
     "data": {
      "text/plain": [
       "['view2', 'view3', 'response']"
      ]
     },
     "execution_count": 69,
     "metadata": {},
     "output_type": "execute_result"
    }
   ],
   "source": [
    "cols_to_drop"
   ]
  },
  {
   "cell_type": "code",
   "execution_count": 74,
   "metadata": {},
   "outputs": [],
   "source": [
    "cols_to_drop = [f'view{x}' for x in range(1,4)]+['response']"
   ]
  },
  {
   "cell_type": "code",
   "execution_count": 75,
   "metadata": {},
   "outputs": [
    {
     "data": {
      "text/plain": [
       "['view1', 'view2', 'view3', 'response']"
      ]
     },
     "execution_count": 75,
     "metadata": {},
     "output_type": "execute_result"
    }
   ],
   "source": [
    "cols_to_drop"
   ]
  },
  {
   "cell_type": "code",
   "execution_count": 76,
   "metadata": {},
   "outputs": [
    {
     "data": {
      "text/plain": [
       "array([ 10,  50, 100])"
      ]
     },
     "execution_count": 76,
     "metadata": {},
     "output_type": "execute_result"
    }
   ],
   "source": [
    "np.array([10,50,100])"
   ]
  },
  {
   "cell_type": "code",
   "execution_count": null,
   "metadata": {},
   "outputs": [],
   "source": []
  }
 ],
 "metadata": {
  "kernelspec": {
   "display_name": "Python 3",
   "language": "python",
   "name": "python3"
  },
  "language_info": {
   "codemirror_mode": {
    "name": "ipython",
    "version": 3
   },
   "file_extension": ".py",
   "mimetype": "text/x-python",
   "name": "python",
   "nbconvert_exporter": "python",
   "pygments_lexer": "ipython3",
   "version": "3.6.5"
  }
 },
 "nbformat": 4,
 "nbformat_minor": 2
}

{
 "cells": [
  {
   "cell_type": "code",
   "execution_count": 1,
   "metadata": {},
   "outputs": [],
   "source": [
    "import pandas as pd\n",
    "import numpy as np"
   ]
  },
  {
   "cell_type": "code",
   "execution_count": 34,
   "metadata": {},
   "outputs": [],
   "source": [
    "class Decoder(object):\n",
    "\n",
    "    def __init__(self,\n",
    "                 sub=None,\n",
    "                 cond1=None,\n",
    "                 cond2=None,\n",
    "                 data_path=None,\n",
    "                 long_csv=None,\n",
    "                 label_key='class',\n",
    "                 out_dir=None,\n",
    "                 freq_idx=[np.arange(4, 8), np.arange(8,15)],\n",
    "                 time_idx=[np.arange(0,125,10), np.arange(125,250,10), np.arange(250,500,10)]):\n",
    "        self.sub = sub\n",
    "        self.cond1=cond1\n",
    "        self.cond2=cond2\n",
    "        self.data_path=data_path\n",
    "        self.data_files = [f'{self.data_path}{self.cond1}_{sub}.csv',\n",
    "                           f'{self.data_path}{self.cond2}_{sub}.csv']\n",
    "        self.long_csv = f'{self.sub}_{self.cond1}_{self.cond2}_long.csv'"
   ]
  },
  {
   "cell_type": "code",
   "execution_count": 36,
   "metadata": {},
   "outputs": [],
   "source": [
    "cond1 = ['mismatch_old', 'mismatch_new']\n",
    "cond2 = 'match_old'\n",
    "cond_list = []\n",
    "for c1 in cond1:\n",
    "    cond_dict = {}\n",
    "    cond_dict['cond1'] = c1\n",
    "    cond_dict['cond2'] = cond2\n",
    "    cond_list.append(cond_dict)\n",
    "\n",
    "for cond_pair in cond_list:\n",
    "    ec109_decoder = Decoder(sub = 'ec109',\n",
    "                            cond1 = cond_pair['cond1'],\n",
    "                            cond2 = cond_pair['cond2'],\n",
    "                            data_path='/Users/drdj/locdec/data/')\n",
    "\n",
    "#     pred_df = ec109_decoder.perform_cv()"
   ]
  },
  {
   "cell_type": "code",
   "execution_count": 39,
   "metadata": {},
   "outputs": [
    {
     "data": {
      "text/plain": [
       "'match_old'"
      ]
     },
     "execution_count": 39,
     "metadata": {},
     "output_type": "execute_result"
    }
   ],
   "source": [
    "ec109_decoder.cond2"
   ]
  },
  {
   "cell_type": "code",
   "execution_count": 22,
   "metadata": {},
   "outputs": [],
   "source": [
    "cond1 = ['mismatch_old', 'mismatch_new']\n",
    "cond2 = 'match_old'\n",
    "cond_list = []\n",
    "\n",
    "for c1 in cond1:\n",
    "    cond_dict = {}\n",
    "    cond_dict['cond1'] = c1\n",
    "    cond_dict['cond2'] = cond2\n",
    "    cond_list.append(cond_dict)"
   ]
  },
  {
   "cell_type": "code",
   "execution_count": 23,
   "metadata": {},
   "outputs": [
    {
     "data": {
      "text/plain": [
       "[{'cond1': 'mismatch_old', 'cond2': 'match_old'},\n",
       " {'cond1': 'mismatch_new', 'cond2': 'match_old'}]"
      ]
     },
     "execution_count": 23,
     "metadata": {},
     "output_type": "execute_result"
    }
   ],
   "source": [
    "cond_list"
   ]
  },
  {
   "cell_type": "code",
   "execution_count": 28,
   "metadata": {},
   "outputs": [
    {
     "name": "stdout",
     "output_type": "stream",
     "text": [
      "mismatch_old\n",
      "mismatch_new\n"
     ]
    }
   ],
   "source": [
    "for item in cond_list:\n",
    "    print(item['cond1'])"
   ]
  },
  {
   "cell_type": "code",
   "execution_count": 40,
   "metadata": {},
   "outputs": [
    {
     "data": {
      "text/plain": [
       "[array([4, 5, 6, 7]), array([ 8,  9, 10, 11, 12, 13, 14])]"
      ]
     },
     "execution_count": 40,
     "metadata": {},
     "output_type": "execute_result"
    }
   ],
   "source": [
    "freq_idx=[np.arange(4, 8), np.arange(8,15)]\n",
    "freq_idx"
   ]
  },
  {
   "cell_type": "code",
   "execution_count": 42,
   "metadata": {},
   "outputs": [],
   "source": [
    "f=freq_idx[0]"
   ]
  },
  {
   "cell_type": "code",
   "execution_count": 43,
   "metadata": {},
   "outputs": [
    {
     "data": {
      "text/plain": [
       "4"
      ]
     },
     "execution_count": 43,
     "metadata": {},
     "output_type": "execute_result"
    }
   ],
   "source": [
    "f[0]"
   ]
  },
  {
   "cell_type": "code",
   "execution_count": 45,
   "metadata": {},
   "outputs": [],
   "source": [
    "import scipy.stats as st"
   ]
  },
  {
   "cell_type": "code",
   "execution_count": 52,
   "metadata": {},
   "outputs": [
    {
     "data": {
      "text/plain": [
       "2.2425394874403537e-12"
      ]
     },
     "execution_count": 52,
     "metadata": {},
     "output_type": "execute_result"
    }
   ],
   "source": [
    "1-st.norm.cdf(6.920988)"
   ]
  },
  {
   "cell_type": "code",
   "execution_count": null,
   "metadata": {},
   "outputs": [],
   "source": []
  }
 ],
 "metadata": {
  "kernelspec": {
   "display_name": "Python 3",
   "language": "python",
   "name": "python3"
  },
  "language_info": {
   "codemirror_mode": {
    "name": "ipython",
    "version": 3
   },
   "file_extension": ".py",
   "mimetype": "text/x-python",
   "name": "python",
   "nbconvert_exporter": "python",
   "pygments_lexer": "ipython3",
   "version": "3.6.5"
  }
 },
 "nbformat": 4,
 "nbformat_minor": 2
}
